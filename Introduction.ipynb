{
  "nbformat": 4,
  "nbformat_minor": 0,
  "metadata": {
    "colab": {
      "provenance": []
    },
    "kernelspec": {
      "name": "python3",
      "display_name": "Python 3"
    },
    "language_info": {
      "name": "python"
    }
  },
  "cells": [
    {
      "cell_type": "code",
      "execution_count": null,
      "metadata": {
        "id": "mpeh2HZxCiuo"
      },
      "outputs": [],
      "source": []
    },
    {
      "cell_type": "markdown",
      "source": [
        "#Introduction"
      ],
      "metadata": {
        "id": "KELVl1c-CqWx"
      }
    },
    {
      "cell_type": "markdown",
      "source": [
        " 1. Explain the main components of client-server architecture and their\n",
        "  functions.\n",
        "  \n",
        "  -> Client- The client send request to the server and recieve the response as well.\n",
        "        Functions- i) It send request to the server using protocols, Like.. HTTP/HTTPS\n",
        "                  ii) It receive and processes response from the server.\n",
        "                  iii) It shows interface to the end user.\n",
        "\n",
        "       Server- The server receive request from client, process the request and send the appropriate response to the client.\n",
        "        Functions- i) Receive and accepts clients request.\n",
        "                   ii)Process the requested operation(e.g., any data from data base.)\n",
        "                   iii)Send response with requested informattion.        "
      ],
      "metadata": {
        "id": "VpPpBg14Cvur"
      }
    },
    {
      "cell_type": "markdown",
      "source": [
        "2. Discuss the various career paths available after completing a web development course.\n",
        "\n",
        "  ->There are several career path opens up after completing a web development course. A web development course makes us efficient in various types of skils like frontend,backend,conding,UI,database,etc..\n",
        "  After the course a individaul can go with many career paths such as:-\n",
        "  i) Front-End Developer\n",
        "  ii) Back-End Developer\n",
        "  iii)FulL-Stack Developer\n",
        "  iv)UI/UX Designer\n",
        "  v)Wrb Designer\n",
        "  vi) Freelancer\n",
        "  And many more.\n",
        "     "
      ],
      "metadata": {
        "id": "K119QMo5Mspe"
      }
    },
    {
      "cell_type": "markdown",
      "source": [
        "3. Describe the role of a web browser's developer tools in web development.\n",
        "\n",
        "  ->A browser developer tools plays a very important rule in web development by allowing developers  to inspect, debug, optimize, and test web applications. Mastering these tools improve the development workflow, faster problem solving, and an improved client experience. These tools are built into the most of the modern browsers such as Google Chrome, Firefox, Microsoft Edge, and Safari."
      ],
      "metadata": {
        "id": "P5cClinPUdl5"
      }
    },
    {
      "cell_type": "markdown",
      "source": [
        "4. What are the advantages of using a Version Control System like Git in a development project?\n",
        "\n",
        "  ->Using a version control system like Git gives many advantages in a development project like ensuring efficient management, collaboration, and tracking of code changes.\n",
        "       It gives some very usefull tool functionalities like:-\n",
        "       i)   Version Tracking and History\n",
        "       ii)  Collaboration and Teamwork\n",
        "       iii) Error Detection and Debugging\n",
        "       iv)  Reverting and Undoing Changes   \n",
        "       v)   Branching and Merging"
      ],
      "metadata": {
        "id": "HVfbPE66YEGz"
      }
    },
    {
      "cell_type": "markdown",
      "source": [
        "5. Compare and contrast a text editor and an IDE, highlighting their key features and uses.\n",
        "\n",
        " ->Text Editor:\n",
        "   A lightweight software used to write and edit plain text, mainly used for coding. It gives basic functionalities like syntax highlighting, file management, and sometimes extensions for additional features.\n",
        "\n",
        " IDE (Integrated Development Environment):\n",
        "A complete software that gives a suitable environment for coding, debugging, compiling, and deploying applications. It includes multiple tools like a text editor, debugger, compiler, and version control."
      ],
      "metadata": {
        "id": "jEC2jDgHce2x"
      }
    }
  ]
}